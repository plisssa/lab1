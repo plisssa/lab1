{
  "cells": [
    {
      "cell_type": "markdown",
      "metadata": {
        "id": "view-in-github",
        "colab_type": "text"
      },
      "source": [
        "<a href=\"https://colab.research.google.com/github/plisssa/lab1/blob/main/%D0%9A%D0%BE%D0%BF%D0%B8%D1%8F_%D0%B1%D0%BB%D0%BE%D0%BA%D0%BD%D0%BE%D1%82%D0%B0_Lab1.ipynb\" target=\"_parent\"><img src=\"https://colab.research.google.com/assets/colab-badge.svg\" alt=\"Open In Colab\"/></a>"
      ]
    },
    {
      "cell_type": "markdown",
      "id": "fifteen-sailing",
      "metadata": {
        "id": "fifteen-sailing"
      },
      "source": [
        "# Лабораторная работа №1\n",
        "## Пузырёва Елизавета БВТ2104"
      ]
    },
    {
      "cell_type": "markdown",
      "id": "particular-syndicate",
      "metadata": {
        "id": "particular-syndicate"
      },
      "source": [
        "### Оглавление\n",
        "1. [Задание 1](#Задание-№1)\n",
        "2. [Задание 2](#Задание-№2)\n",
        "3. [Задание 3](#Задание-№3)\n",
        "4. [Вывод](#Вывод)"
      ]
    },
    {
      "cell_type": "markdown",
      "id": "arctic-stocks",
      "metadata": {
        "id": "arctic-stocks"
      },
      "source": [
        "### Задание №1\n",
        "<i> Вызвать функцию print() и передать туда строку Hello, World! </i>"
      ]
    },
    {
      "cell_type": "code",
      "execution_count": null,
      "id": "caring-truck",
      "metadata": {
        "scrolled": true,
        "id": "caring-truck",
        "colab": {
          "base_uri": "https://localhost:8080/"
        },
        "outputId": "a2482c6c-0647-4b55-bdcb-bcbc65803edf"
      },
      "outputs": [
        {
          "output_type": "stream",
          "name": "stdout",
          "text": [
            "Hello, World!\n"
          ]
        }
      ],
      "source": [
        "print('Hello, World!')"
      ]
    },
    {
      "cell_type": "markdown",
      "id": "maritime-conversation",
      "metadata": {
        "id": "maritime-conversation"
      },
      "source": [
        "### Задание №2\n",
        "Написать генератор случайных матриц(многомерных), который принимает\n",
        "опциональные параметры <b>m</b>, <b>n</b>, <b>min_limit</b>, <b>max_limit</b>, где <b>m</b> и <b>n</b> указывают размер\n",
        "матрицы, а <b>min_lim</b> и <b>max_lim</b> - минимальное и максимальное значение для\n",
        "генерируемого числа."
      ]
    },
    {
      "cell_type": "code",
      "execution_count": null,
      "id": "built-contact",
      "metadata": {
        "id": "built-contact"
      },
      "outputs": [],
      "source": [
        "import random\n",
        "import time\n",
        "import matplotlib.pyplot as plt"
      ]
    },
    {
      "cell_type": "code",
      "execution_count": null,
      "id": "alert-charm",
      "metadata": {
        "id": "alert-charm",
        "outputId": "d89ef00e-1073-4c97-9f52-1432add478cf",
        "colab": {
          "base_uri": "https://localhost:8080/"
        }
      },
      "outputs": [
        {
          "name": "stdout",
          "output_type": "stream",
          "text": [
            "5\n",
            "5\n",
            "\n",
            "5\n"
          ]
        },
        {
          "output_type": "execute_result",
          "data": {
            "text/plain": [
              "('5', '5', '', '5')"
            ]
          },
          "metadata": {},
          "execution_count": 2
        }
      ],
      "source": [
        "user_m = input()\n",
        "user_n = input()\n",
        "user_min_limit = input()\n",
        "user_max_limit = input()\n",
        "user_m, user_n, user_min_limit, user_max_limit"
      ]
    },
    {
      "cell_type": "code",
      "source": [
        "m = int(input())\n",
        "n = int(input())\n",
        "min_limit = int(input())\n",
        "max_limit = int(input())\n",
        "matrix = [[random.randint(min_limit, max_limit) for _ in range(m)] for _ in range(n)]\n"
      ],
      "metadata": {
        "colab": {
          "base_uri": "https://localhost:8080/"
        },
        "id": "BHwIYdH55Fcv",
        "outputId": "7b6d383e-60f7-4d95-c87b-07783583edc0"
      },
      "id": "BHwIYdH55Fcv",
      "execution_count": null,
      "outputs": [
        {
          "name": "stdout",
          "output_type": "stream",
          "text": [
            "5\n",
            "5\n",
            "0\n",
            "10\n"
          ]
        }
      ]
    },
    {
      "cell_type": "markdown",
      "id": "catholic-roots",
      "metadata": {
        "id": "catholic-roots"
      },
      "source": [
        "### Задание №3\n",
        "Реализовать методы сортировки строк числовой матрицы в соответствии с\n",
        "заданием. Оценить время работы каждого алгоритма сортировки и сравнить его со\n",
        "временем стандартной функции сортировки. Испытания проводить на сгенерированных\n",
        "матрицах."
      ]
    },
    {
      "cell_type": "code",
      "execution_count": null,
      "id": "opposed-creature",
      "metadata": {
        "id": "opposed-creature"
      },
      "outputs": [],
      "source": [
        "import copy"
      ]
    },
    {
      "cell_type": "code",
      "source": [
        "def generateMatrix(m, n, min_limit, max_limit):\n",
        "  return [[random.randint(min_limit, max_limit) for _ in range(m)] for _ in range(n)]"
      ],
      "metadata": {
        "id": "_vN1pQ2wZt97"
      },
      "id": "_vN1pQ2wZt97",
      "execution_count": null,
      "outputs": []
    },
    {
      "cell_type": "code",
      "source": [
        "#На больших списках он работает как сортировка слиянием, на маленьких как сортировка вставками\n",
        "m = 8\n",
        "n = 8\n",
        "NUM_MATRIXES = 16\n",
        "NUM_INCREASE = 4\n",
        "\n",
        "minLimit = 0\n",
        "maxLimit = 20\n",
        "useOnce = False\n",
        "\n",
        "#print(\"Генерируем матрицу:\")\n",
        "matrix = generateMatrix(m, n, minLimit, maxLimit)\n",
        "defaultSortMatrix = copy.deepcopy(matrix)\n",
        "#print(*defaultSortMatrix, sep='\\n', end='\\n\\n')\n",
        "\n",
        "matrixes = []\n",
        "x_layer = []\n",
        "for i in range(NUM_MATRIXES):\n",
        "  matrixes.append(generateMatrix(m, n, minLimit, maxLimit))\n",
        "  x_layer.append(m * n)\n",
        "  m += NUM_INCREASE\n",
        "  n += NUM_INCREASE\n",
        "\n",
        "def compareMatrix(m1, m2):\n",
        "  if(len(m1) != len(m2)): return False\n",
        "  if(len(m1[0]) != len(m2[0])): return False\n",
        "  for i in range(len(m1)):\n",
        "    for j in range(len(m1[0])):\n",
        "      if m1[i][j] != m2[i][j]:\n",
        "        return False\n",
        "  return True\n",
        "\n",
        "\n",
        "print(\"Встроенная сортировка:\")\n",
        "start_time = time.time_ns()\n",
        "defaultSortMatrix = list(map(sorted, defaultSortMatrix))\n",
        "defaultSortTime = time.time_ns() - start_time\n",
        "print(\"--- {0} ns ---\".format(round(defaultSortTime)))\n",
        "\n",
        "arr = copy.deepcopy(matrixes)\n",
        "y_layer = []\n",
        "for i in range(NUM_MATRIXES):\n",
        "  start_time = time.time_ns()\n",
        "  list(map(sorted, arr[i]))\n",
        "  y_layer.append(time.time_ns() - start_time)\n",
        "plt.plot(x_layer, y_layer)\n",
        "plt.xlabel(\"Количество элементов в матрице\")\n",
        "plt.ylabel(\"Время, затраченное на сортировку (нс)\")\n",
        "plt.title(\"Встроенная сортировка\")\n",
        "plt.ticklabel_format(style = 'plain')\n",
        "plt.show()"
      ],
      "metadata": {
        "colab": {
          "base_uri": "https://localhost:8080/",
          "height": 329
        },
        "id": "2KJfQ0puYZuE",
        "outputId": "0b884c80-e664-4197-dfb3-ef4db9bcad1e"
      },
      "id": "2KJfQ0puYZuE",
      "execution_count": null,
      "outputs": [
        {
          "output_type": "stream",
          "name": "stdout",
          "text": [
            "Встроенная сортировка:\n",
            "--- 82298 ns ---\n"
          ]
        },
        {
          "output_type": "display_data",
          "data": {
            "text/plain": [
              "<Figure size 432x288 with 1 Axes>"
            ],
            "image/png": "[encoded data removed]"
          },
          "metadata": {
            "needs_background": "light"
          }
        }
      ]
    },
    {
      "cell_type": "code",
      "source": [
        "# Сортировка выбором - это улучшенная версия пузырьковой сортировки\n",
        "# Берётся срез массива, ищется наименьший элемент в списке и помещся его в начало, либо ищется самый крупный элемент и помещается в конец списка,\n",
        "# после чего срез уменьшается и цикл повторяется.\n",
        "start_time = time.time()\n",
        "def chooseSort(matrix):\n",
        "  for i in range(len(matrix)):\n",
        "    arr = matrix[i]\n",
        "    for j in range(len(arr)):\n",
        "      minVal = arr[j]\n",
        "      minIdx = j\n",
        "      for k in range(j + 1, len(arr)):\n",
        "        if(arr[k] < minVal):\n",
        "          minVal = arr[k]\n",
        "          minIdx = k\n",
        "      arr[j], arr[minIdx] = arr[minIdx], arr[j]\n",
        "  return matrix\n",
        "\n",
        "print(\"--- {0} ms ---\".format(round((time.time() - start_time)*1000)))\n",
        "print(\"Сортировка выбором:\")\n",
        "start_time = time.time_ns()\n",
        "sortedMatrix = chooseSort(matrix)\n",
        "chooseSortTime = time.time_ns() - start_time \n",
        "print(\"--- {0} ns ---\".format(round((chooseSortTime))))\n",
        "print(\"Матрица отсортирована корректно\" if compareMatrix(sortedMatrix, defaultSortMatrix) else \"Матрица отсортирована некорректо\")\n",
        "if(chooseSortTime < defaultSortTime):\n",
        "  print(\"Сортировка эффективнее встроенной\")\n",
        "else:\n",
        "  print(\"Встроенная сортировка эффективнее\")"
      ],
      "metadata": {
        "id": "DxmxbSh95T9Y",
        "colab": {
          "base_uri": "https://localhost:8080/"
        },
        "outputId": "d782ad87-254a-4a25-a8fc-7e847d7de70d"
      },
      "id": "DxmxbSh95T9Y",
      "execution_count": null,
      "outputs": [
        {
          "output_type": "stream",
          "name": "stdout",
          "text": [
            "--- 0 ms ---\n",
            "Сортировка выбором:\n",
            "--- 155725 ns ---\n",
            "Матрица отсортирована корректно\n",
            "Встроенная сортировка эффективнее\n"
          ]
        }
      ]
    },
    {
      "cell_type": "code",
      "source": [
        "arr = copy.deepcopy(matrixes)\n",
        "y_layer = []\n",
        "for i in range(NUM_MATRIXES):\n",
        "  start_time = time.time_ns()\n",
        "  chooseSort(arr[i])\n",
        "  y_layer.append(time.time_ns() - start_time)\n",
        "plt.plot(x_layer, y_layer)\n",
        "plt.xlabel(\"Количество элементов в матрице\")\n",
        "plt.ylabel(\"Время, затраченное на сортировку (нс)\")\n",
        "plt.title(\"Сортировка выбором\")\n",
        "plt.ticklabel_format(style = 'plain')\n",
        "plt.show()\n"
      ],
      "metadata": {
        "colab": {
          "base_uri": "https://localhost:8080/",
          "height": 295
        },
        "id": "lL1XI46haxUs",
        "outputId": "e4dcc591-aa29-4e2d-97e0-9acdc4fa8d5c"
      },
      "id": "lL1XI46haxUs",
      "execution_count": null,
      "outputs": [
        {
          "output_type": "display_data",
          "data": {
            "text/plain": [
              "<Figure size 432x288 with 1 Axes>"
            ],
            "image/png": "[encoded data removed]"
          },
          "metadata": {
            "needs_background": "light"
          }
        }
      ]
    },
    {
      "cell_type": "code",
      "execution_count": null,
      "id": "roman-silly",
      "metadata": {
        "scrolled": true,
        "id": "roman-silly",
        "outputId": "831e62e7-aed4-4cdc-a5c8-ec411a0f2a62",
        "colab": {
          "base_uri": "https://localhost:8080/"
        }
      },
      "outputs": [
        {
          "output_type": "stream",
          "name": "stdout",
          "text": [
            "--- 0 ms ---\n",
            "Сортировка вставкой:\n",
            "--- 122502 ns ---\n",
            "Матрица отсортирована некорректо\n",
            "Встроенная сортировка эффективнее\n"
          ]
        }
      ],
      "source": [
        "# Сортировка вставкой - последовательно сравнивает все элементы массива (сравнивает соседние элементы)\n",
        "#и ставит элементы в списке в нужном порядке\n",
        "start_time = time.time()\n",
        "#TODO\n",
        "def insertionSort(matrix):\n",
        "    for i in range(1, len(matrix)):\n",
        "        x = matrix[i]\n",
        "        index = i\n",
        "        while index > 0 and matrix[index - 1] > x:\n",
        "            matrix[index] = matrix[index-1]\n",
        "            index -= 1\n",
        "        matrix[index] = x\n",
        "    return matrix\n",
        "\n",
        "print(\"--- {0} ms ---\".format(round((time.time() - start_time)*1000)))\n",
        "print(\"Сортировка вставкой:\")\n",
        "start_time = time.time_ns()\n",
        "sortedMatrix = insertionSort(matrix)\n",
        "insertionSortTime = time.time_ns() - start_time \n",
        "print(\"--- {0} ns ---\".format(round((insertionSortTime))))\n",
        "print(\"Матрица отсортирована корректно\" if compareMatrix(sortedMatrix, defaultSortMatrix) else \"Матрица отсортирована некорректо\")\n",
        "if(insertionSortTime < defaultSortTime):\n",
        "  print(\"Сортировка эффективнее встроенной\")\n",
        "else:\n",
        "  print(\"Встроенная сортировка эффективнее\")"
      ]
    },
    {
      "cell_type": "code",
      "source": [
        "arr = copy.deepcopy(matrixes)\n",
        "y_layer = []\n",
        "for i in range(NUM_MATRIXES):\n",
        "  start_time = time.time_ns()\n",
        "  insertionSort(arr[i])\n",
        "  y_layer.append(time.time_ns() - start_time)\n",
        "plt.plot(x_layer, y_layer)\n",
        "plt.xlabel(\"Количество элементов в матрице\")\n",
        "plt.ylabel(\"Время, затраченное на сортировку (нс)\")\n",
        "plt.title(\"Сортировка вставками\")\n",
        "plt.ticklabel_format(style = 'plain')\n",
        "plt.show()"
      ],
      "metadata": {
        "colab": {
          "base_uri": "https://localhost:8080/",
          "height": 295
        },
        "id": "mV9zJMGnuZoQ",
        "outputId": "06eb154f-de7c-4852-aa92-2cbef7dc3e6c"
      },
      "id": "mV9zJMGnuZoQ",
      "execution_count": null,
      "outputs": [
        {
          "output_type": "display_data",
          "data": {
            "text/plain": [
              "<Figure size 432x288 with 1 Axes>"
            ],
            "image/png": "[encoded data removed]"
          },
          "metadata": {
            "needs_background": "light"
          }
        }
      ]
    },
    {
      "cell_type": "code",
      "execution_count": null,
      "id": "vital-implementation",
      "metadata": {
        "id": "vital-implementation",
        "outputId": "58067204-90be-4d1f-8bd5-016d83c7652f",
        "colab": {
          "base_uri": "https://localhost:8080/"
        }
      },
      "outputs": [
        {
          "output_type": "stream",
          "name": "stdout",
          "text": [
            "--- 0 ms ---\n",
            "Сортировка пузырьком:\n",
            "--- 151977 ns ---\n",
            "Матрица отсортирована некорректо\n",
            "Встроенная сортировка эффективнее\n"
          ]
        }
      ],
      "source": [
        "# Сортировка обменом. || Сортировка пузырьком.\n",
        "start_time = time.time()\n",
        "\n",
        "def bubbleSort(arr):\n",
        "    for s in arr:\n",
        "        for i in range(len(s)):\n",
        "            for j in range(len(s) - i - 1):\n",
        "                if s[j] > s[j+1]:\n",
        "                    s[j], s[j+1] = s[j+1], s[j]\n",
        "    return arr\n",
        "\n",
        "print(\"--- {0} ms ---\".format(round((time.time() - start_time)*1000)))\n",
        "print(\"Сортировка пузырьком:\")\n",
        "start_time = time.time_ns()\n",
        "sortedMatrix = bubbleSort(matrix)\n",
        "bubbleSortTime = time.time_ns() - start_time \n",
        "print(\"--- {0} ns ---\".format(round((bubbleSortTime))))\n",
        "print(\"Матрица отсортирована корректно\" if compareMatrix(sortedMatrix, defaultSortMatrix) else \"Матрица отсортирована некорректо\")\n",
        "if(bubbleSortTime < defaultSortTime):\n",
        "  print(\"Сортировка эффективнее встроенной\")\n",
        "else:\n",
        "    print(\"Встроенная сортировка эффективнее\")"
      ]
    },
    {
      "cell_type": "code",
      "source": [
        "arr = copy.deepcopy(matrixes)\n",
        "y_layer = []\n",
        "for i in range(NUM_MATRIXES):\n",
        "  start_time = time.time_ns()\n",
        "  insertionSort(arr[i])\n",
        "  y_layer.append(time.time_ns() - start_time)\n",
        "plt.plot(x_layer, y_layer)\n",
        "plt.xlabel(\"Количество элементов в матрице\")\n",
        "plt.ylabel(\"Время, затраченное на сортировку (нс)\")\n",
        "plt.title(\"Сортировка пузырьком\")\n",
        "plt.ticklabel_format(style = 'plain')\n",
        "plt.show()"
      ],
      "metadata": {
        "colab": {
          "base_uri": "https://localhost:8080/",
          "height": 295
        },
        "id": "eT7qA8b7b99z",
        "outputId": "3904dee6-6aca-484b-f909-a41cf9f565b6"
      },
      "id": "eT7qA8b7b99z",
      "execution_count": null,
      "outputs": [
        {
          "output_type": "display_data",
          "data": {
            "text/plain": [
              "<Figure size 432x288 with 1 Axes>"
            ],
            "image/png": "[encoded data removed]"
          },
          "metadata": {
            "needs_background": "light"
          }
        }
      ]
    },
    {
      "cell_type": "code",
      "execution_count": null,
      "id": "veterinary-glory",
      "metadata": {
        "id": "veterinary-glory",
        "outputId": "f6d85db1-ad21-49ca-b999-3c8c8a6a851c",
        "colab": {
          "base_uri": "https://localhost:8080/"
        }
      },
      "outputs": [
        {
          "output_type": "stream",
          "name": "stdout",
          "text": [
            "Сортировка Шелла:\n",
            "--- 115448 ns  ---\n",
            "Матрица отсортирована некорректо\n",
            "Встроенная сортировка эффективнее\n"
          ]
        }
      ],
      "source": [
        "# Сортировка Шелла.\n",
        "start_time = time.time()\n",
        "\n",
        "def shellSort(matrix):\n",
        "    for i in range(len(matrix)):\n",
        "        arr = matrix[i]\n",
        "        step = len(arr) // 2\n",
        "        while step > 1:\n",
        "            for j in range(step):\n",
        "                if arr[j] > arr[step + j]:\n",
        "                    arr[j], arr[step + j] = arr[step + j], arr[j]\n",
        "            step //= 2\n",
        "        for j in range(1, len(arr)):\n",
        "            x = arr[j]\n",
        "            index = j\n",
        "            while index > 0 and arr[index - 1] > x:\n",
        "                arr[index] = arr[index - 1]\n",
        "                index -= 1\n",
        "            arr[index] = x\n",
        "    return matrix\n",
        "    \n",
        "\n",
        "print(\"Сортировка Шелла:\")\n",
        "start_time = time.time_ns()\n",
        "sortedMatrix = shellSort(matrix)\n",
        "shellSortTime = time.time_ns() - start_time \n",
        "print(\"--- {0} ns  ---\".format(round((shellSortTime))))\n",
        "print(\"Матрица отсортирована корректно\" if compareMatrix(sortedMatrix, defaultSortMatrix) else \"Матрица отсортирована некорректо\")\n",
        "if(shellSortTime < defaultSortTime):\n",
        "  print(\"Сортировка эффективнее встроенной\")\n",
        "else:\n",
        "  print(\"Встроенная сортировка эффективнее\")"
      ]
    },
    {
      "cell_type": "code",
      "source": [
        "arr = copy.deepcopy(matrixes)\n",
        "y_layer = []\n",
        "for i in range(NUM_MATRIXES):\n",
        "  start_time = time.time_ns()\n",
        "  shellSort(arr[i])\n",
        "  y_layer.append(time.time_ns() - start_time)\n",
        "plt.plot(x_layer, y_layer)\n",
        "plt.xlabel(\"Количество элементов в матрице\")\n",
        "plt.ylabel(\"Время, затраченное на сортировку (нс)\")\n",
        "plt.title(\"Сортировка Шелла\")\n",
        "plt.ticklabel_format(style = 'plain')\n",
        "plt.show()"
      ],
      "metadata": {
        "colab": {
          "base_uri": "https://localhost:8080/",
          "height": 295
        },
        "id": "xUqzvek1cQ38",
        "outputId": "9e413a33-67c3-45fc-f80d-22af284e30f0"
      },
      "id": "xUqzvek1cQ38",
      "execution_count": null,
      "outputs": [
        {
          "output_type": "display_data",
          "data": {
            "text/plain": [
              "<Figure size 432x288 with 1 Axes>"
            ],
            "image/png": "[encoded data removed]"
          },
          "metadata": {
            "needs_background": "light"
          }
        }
      ]
    },
    {
      "cell_type": "code",
      "execution_count": null,
      "id": "correct-chaos",
      "metadata": {
        "id": "correct-chaos",
        "outputId": "ea988764-5448-49f6-8a72-cae55da4c301",
        "colab": {
          "base_uri": "https://localhost:8080/"
        }
      },
      "outputs": [
        {
          "output_type": "stream",
          "name": "stdout",
          "text": [
            "--- 0 ms ---\n",
            "Быстрая сортировка:\n",
            "--- 269957 ns ---\n",
            "Матрица отсортирована некорректо\n",
            "Встроенная сортировка эффективнее\n"
          ]
        }
      ],
      "source": [
        "# Быстрая сортировка.\n",
        "start_time = time.time()\n",
        "#TODO\n",
        "def fastSort(matrix):\n",
        "  def quicksort(array):\n",
        "    if len(array) < 2:\n",
        "      return array\n",
        "    x = array[0]\n",
        "    l = [i for i in array[1:] if i <= x]\n",
        "    r = [i for i in array[1:] if i > x]\n",
        "    return quicksort(l) + [x] + quicksort(r)\n",
        "\n",
        "  for i in range(len(matrix)):\n",
        "    matrix[i] = quicksort(matrix[i])\n",
        "  \n",
        "  return matrix\n",
        "\n",
        "print(\"--- {0} ms ---\".format(round((time.time() - start_time)*1000)))\n",
        "print(\"Быстрая сортировка:\")\n",
        "start_time = time.time_ns()\n",
        "sortedMatrix = fastSort(matrix)\n",
        "fastSortTime = time.time_ns() - start_time \n",
        "print(\"--- {0} ns ---\".format(round((fastSortTime))))\n",
        "print(\"Матрица отсортирована корректно\" if compareMatrix(sortedMatrix, defaultSortMatrix) else \"Матрица отсортирована некорректо\")\n",
        "if(fastSortTime < defaultSortTime):\n",
        "  print(\"Сортировка эффективнее встроенной\")\n",
        "else:\n",
        "  print(\"Встроенная сортировка эффективнее\")"
      ]
    },
    {
      "cell_type": "code",
      "source": [
        "arr = copy.deepcopy(matrixes)\n",
        "y_layer = []\n",
        "for i in range(NUM_MATRIXES):\n",
        "  start_time = time.time_ns()\n",
        "  fastSort(arr[i])\n",
        "  y_layer.append(time.time_ns() - start_time)\n",
        "plt.plot(x_layer, y_layer)\n",
        "plt.xlabel(\"Количество элементов в матрице\")\n",
        "plt.ylabel(\"Время, затраченное на сортировку (нс)\")\n",
        "plt.title(\"Быстрая сортировка\")\n",
        "plt.ticklabel_format(style = 'plain')\n",
        "plt.show()"
      ],
      "metadata": {
        "colab": {
          "base_uri": "https://localhost:8080/",
          "height": 295
        },
        "id": "UxHA8uBofXc_",
        "outputId": "1eff9251-b3dc-463b-d1a2-6ff6692ec07c"
      },
      "id": "UxHA8uBofXc_",
      "execution_count": null,
      "outputs": [
        {
          "output_type": "display_data",
          "data": {
            "text/plain": [
              "<Figure size 432x288 with 1 Axes>"
            ],
            "image/png": "[encoded data removed]"
          },
          "metadata": {
            "needs_background": "light"
          }
        }
      ]
    },
    {
      "cell_type": "code",
      "execution_count": 32,
      "id": "french-czech",
      "metadata": {
        "colab": {
          "base_uri": "https://localhost:8080/"
        },
        "id": "french-czech",
        "outputId": "feeffde2-e26d-401c-f334-2d5e4e8550ec"
      },
      "outputs": [
        {
          "output_type": "stream",
          "name": "stdout",
          "text": [
            "--- 1 ms ---\n",
            "Быстрая сортировка:\n",
            "--- 406947 ns ---\n",
            "Матрица отсортирована корректно\n",
            "Встроенная сортировка эффективнее\n"
          ]
        }
      ],
      "source": [
        "# Турнирная сортировка\n",
        "#Элементы исходного множества представляются листьями дерева. Их попарное сравнение позволяет определить минимальный (максимальный) элемент.\n",
        "#Метод турнирной сортировки основан на повторяющихся поисках наименьшего ключа среди пэлементов, среди оставшихся п— 1 элементов и т.д\n",
        "start_time = time.time()\n",
        "\n",
        "def genThree(arr):\n",
        "    three = [arr]\n",
        "    while(len(three[-1]) != 1):\n",
        "        layer = []\n",
        "        for i in range(1, len(three[-1]), 2):\n",
        "            layer.append(three[-1][i] if three[-1][i] < three[-1][i - 1] else three[-1][i - 1])\n",
        "        if len(three[-1]) % 2 == 1:\n",
        "            layer.append(three[-1][-1])\n",
        "        three.append(layer)\n",
        "    return three\n",
        "\n",
        "def remakeThree(three, elem):\n",
        "    mx = max(three[0]) + 1\n",
        "    idx = three[0].index(elem)\n",
        "    three[0][idx] = mx\n",
        "    for i in range(0, len(three) - 1):\n",
        "        if idx % 2 == 1:\n",
        "            pair = three[i][idx - 1]\n",
        "        elif idx != (len(three[i]) - 1):\n",
        "            pair = three[i][idx + 1]\n",
        "        else:\n",
        "            pair = three[i][idx]\n",
        "        if pair > three[i][idx]:\n",
        "            pair = three[i][idx]\n",
        "        idx //= 2\n",
        "        three[i + 1][idx] = pair\n",
        "    return three\n",
        "\n",
        "def tournamentSort(arr):\n",
        "    three = genThree(arr)\n",
        "    new_arr = [three[-1][0]]\n",
        "    while(len(new_arr) != len(arr)):\n",
        "        three = remakeThree(three, new_arr[-1])\n",
        "        new_arr.append(three[-1][0])\n",
        "    return new_arr\n",
        "\n",
        "\n",
        "print(\"--- {0} ms ---\".format(round((time.time() - start_time)*1000)))\n",
        "print(\"Быстрая сортировка:\")\n",
        "start_time = time.time_ns()\n",
        "sortedMatrix = list(map(tournamentSort, copy.deepcopy(matrix)))\n",
        "tournamentSortTime = time.time_ns() - start_time \n",
        "print(\"--- {0} ns ---\".format(round((tournamentSortTime))))\n",
        "print(\"Матрица отсортирована корректно\" if compareMatrix(sortedMatrix, defaultSortMatrix) else \"Матрица отсортирована некорректо\")\n",
        "if(tournamentSortTime < defaultSortTime):\n",
        "  print(\"Сортировка эффективнее встроенной\")\n",
        "else:\n",
        "  print(\"Встроенная сортировка эффективнее\")"
      ]
    },
    {
      "cell_type": "code",
      "source": [
        "arr = copy.deepcopy(matrixes)\n",
        "y_layer = []\n",
        "for i in range(NUM_MATRIXES):\n",
        "  start_time = time.time_ns()\n",
        "  list(map(tournamentSort, arr[i]))\n",
        "  y_layer.append(time.time_ns() - start_time)\n",
        "plt.plot(x_layer, y_layer)\n",
        "plt.xlabel(\"Количество элементов в матрице\")\n",
        "plt.ylabel(\"Время, затраченное на сортировку (нс)\")\n",
        "plt.title(\"Турнирная сортировка\")\n",
        "plt.ticklabel_format(style = 'plain')\n",
        "plt.show()"
      ],
      "metadata": {
        "colab": {
          "base_uri": "https://localhost:8080/",
          "height": 295
        },
        "id": "rnVUaAH1gbi4",
        "outputId": "7069ca07-25f3-4f71-ff60-ebdd5c17d2e0"
      },
      "id": "rnVUaAH1gbi4",
      "execution_count": null,
      "outputs": [
        {
          "output_type": "display_data",
          "data": {
            "text/plain": [
              "<Figure size 432x288 with 1 Axes>"
            ],
            "image/png": "[encoded data removed]"
          },
          "metadata": {
            "needs_background": "light"
          }
        }
      ]
    },
    {
      "cell_type": "code",
      "source": [],
      "metadata": {
        "id": "GBQVypgfuNus"
      },
      "id": "GBQVypgfuNus",
      "execution_count": 31,
      "outputs": []
    },
    {
      "cell_type": "markdown",
      "id": "rental-jerusalem",
      "metadata": {
        "id": "rental-jerusalem"
      },
      "source": [
        "### Вывод\n"
      ]
    },
    {
      "cell_type": "markdown",
      "id": "9d108a0a",
      "metadata": {
        "id": "9d108a0a"
      },
      "source": []
    }
  ],
  "metadata": {
    "kernelspec": {
      "display_name": "Python 3 (ipykernel)",
      "language": "python",
      "name": "python3"
    },
    "language_info": {
      "codemirror_mode": {
        "name": "ipython",
        "version": 3
      },
      "file_extension": ".py",
      "mimetype": "text/x-python",
      "name": "python",
      "nbconvert_exporter": "python",
      "pygments_lexer": "ipython3",
      "version": "3.10.2"
    },
    "colab": {
      "provenance": [],
      "include_colab_link": true
    }
  },
  "nbformat": 4,
  "nbformat_minor": 5
}